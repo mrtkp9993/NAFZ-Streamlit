{
 "cells": [
  {
   "cell_type": "code",
   "execution_count": 10,
   "metadata": {},
   "outputs": [],
   "source": [
    "# source: https://github.com/carlosgorlongaiatto/LabLOCP_A_Project/blob/main/project.ipynb"
   ]
  },
  {
   "cell_type": "code",
   "execution_count": 1,
   "metadata": {},
   "outputs": [],
   "source": [
    "import plotly.express as px\n",
    "import pandas as pd\n",
    "import numpy as np\n",
    "from scipy import stats"
   ]
  },
  {
   "cell_type": "code",
   "execution_count": 2,
   "metadata": {},
   "outputs": [
    {
     "data": {
      "text/html": [
       "<div>\n",
       "<style scoped>\n",
       "    .dataframe tbody tr th:only-of-type {\n",
       "        vertical-align: middle;\n",
       "    }\n",
       "\n",
       "    .dataframe tbody tr th {\n",
       "        vertical-align: top;\n",
       "    }\n",
       "\n",
       "    .dataframe thead th {\n",
       "        text-align: right;\n",
       "    }\n",
       "</style>\n",
       "<table border=\"1\" class=\"dataframe\">\n",
       "  <thead>\n",
       "    <tr style=\"text-align: right;\">\n",
       "      <th></th>\n",
       "      <th>longitude</th>\n",
       "      <th>latitude</th>\n",
       "      <th>year</th>\n",
       "      <th>month</th>\n",
       "      <th>day</th>\n",
       "      <th>hour</th>\n",
       "      <th>minute</th>\n",
       "      <th>second</th>\n",
       "      <th>magnitude</th>\n",
       "      <th>depth</th>\n",
       "    </tr>\n",
       "  </thead>\n",
       "  <tbody>\n",
       "    <tr>\n",
       "      <th>0</th>\n",
       "      <td>33.260</td>\n",
       "      <td>40.980</td>\n",
       "      <td>1936</td>\n",
       "      <td>9</td>\n",
       "      <td>22</td>\n",
       "      <td>11</td>\n",
       "      <td>56</td>\n",
       "      <td>56.0</td>\n",
       "      <td>5.2</td>\n",
       "      <td>60.00</td>\n",
       "    </tr>\n",
       "    <tr>\n",
       "      <th>1</th>\n",
       "      <td>40.430</td>\n",
       "      <td>39.940</td>\n",
       "      <td>1937</td>\n",
       "      <td>12</td>\n",
       "      <td>7</td>\n",
       "      <td>9</td>\n",
       "      <td>31</td>\n",
       "      <td>4.0</td>\n",
       "      <td>5.2</td>\n",
       "      <td>60.00</td>\n",
       "    </tr>\n",
       "    <tr>\n",
       "      <th>2</th>\n",
       "      <td>33.880</td>\n",
       "      <td>41.080</td>\n",
       "      <td>1938</td>\n",
       "      <td>5</td>\n",
       "      <td>31</td>\n",
       "      <td>19</td>\n",
       "      <td>34</td>\n",
       "      <td>54.0</td>\n",
       "      <td>5.2</td>\n",
       "      <td>60.00</td>\n",
       "    </tr>\n",
       "    <tr>\n",
       "      <th>3</th>\n",
       "      <td>40.000</td>\n",
       "      <td>39.410</td>\n",
       "      <td>1940</td>\n",
       "      <td>5</td>\n",
       "      <td>29</td>\n",
       "      <td>15</td>\n",
       "      <td>24</td>\n",
       "      <td>52.0</td>\n",
       "      <td>5.2</td>\n",
       "      <td>60.00</td>\n",
       "    </tr>\n",
       "    <tr>\n",
       "      <th>4</th>\n",
       "      <td>39.430</td>\n",
       "      <td>39.740</td>\n",
       "      <td>1941</td>\n",
       "      <td>11</td>\n",
       "      <td>12</td>\n",
       "      <td>10</td>\n",
       "      <td>4</td>\n",
       "      <td>59.0</td>\n",
       "      <td>6.0</td>\n",
       "      <td>70.00</td>\n",
       "    </tr>\n",
       "    <tr>\n",
       "      <th>...</th>\n",
       "      <td>...</td>\n",
       "      <td>...</td>\n",
       "      <td>...</td>\n",
       "      <td>...</td>\n",
       "      <td>...</td>\n",
       "      <td>...</td>\n",
       "      <td>...</td>\n",
       "      <td>...</td>\n",
       "      <td>...</td>\n",
       "      <td>...</td>\n",
       "    </tr>\n",
       "    <tr>\n",
       "      <th>1928</th>\n",
       "      <td>30.946</td>\n",
       "      <td>40.808</td>\n",
       "      <td>2022</td>\n",
       "      <td>12</td>\n",
       "      <td>3</td>\n",
       "      <td>4</td>\n",
       "      <td>59</td>\n",
       "      <td>20.0</td>\n",
       "      <td>4.1</td>\n",
       "      <td>14.20</td>\n",
       "    </tr>\n",
       "    <tr>\n",
       "      <th>1929</th>\n",
       "      <td>38.684</td>\n",
       "      <td>39.854</td>\n",
       "      <td>2022</td>\n",
       "      <td>12</td>\n",
       "      <td>10</td>\n",
       "      <td>10</td>\n",
       "      <td>29</td>\n",
       "      <td>26.0</td>\n",
       "      <td>3.6</td>\n",
       "      <td>7.05</td>\n",
       "    </tr>\n",
       "    <tr>\n",
       "      <th>1930</th>\n",
       "      <td>27.110</td>\n",
       "      <td>40.364</td>\n",
       "      <td>2022</td>\n",
       "      <td>12</td>\n",
       "      <td>13</td>\n",
       "      <td>3</td>\n",
       "      <td>21</td>\n",
       "      <td>16.0</td>\n",
       "      <td>4.3</td>\n",
       "      <td>12.12</td>\n",
       "    </tr>\n",
       "    <tr>\n",
       "      <th>1931</th>\n",
       "      <td>40.537</td>\n",
       "      <td>39.859</td>\n",
       "      <td>2022</td>\n",
       "      <td>12</td>\n",
       "      <td>18</td>\n",
       "      <td>8</td>\n",
       "      <td>57</td>\n",
       "      <td>49.0</td>\n",
       "      <td>3.9</td>\n",
       "      <td>10.21</td>\n",
       "    </tr>\n",
       "    <tr>\n",
       "      <th>1932</th>\n",
       "      <td>34.184</td>\n",
       "      <td>41.109</td>\n",
       "      <td>2022</td>\n",
       "      <td>12</td>\n",
       "      <td>28</td>\n",
       "      <td>7</td>\n",
       "      <td>45</td>\n",
       "      <td>12.0</td>\n",
       "      <td>3.9</td>\n",
       "      <td>10.16</td>\n",
       "    </tr>\n",
       "  </tbody>\n",
       "</table>\n",
       "<p>1933 rows × 10 columns</p>\n",
       "</div>"
      ],
      "text/plain": [
       "      longitude  latitude  year  month  day  hour  minute  second  magnitude  \\\n",
       "0        33.260    40.980  1936      9   22    11      56    56.0        5.2   \n",
       "1        40.430    39.940  1937     12    7     9      31     4.0        5.2   \n",
       "2        33.880    41.080  1938      5   31    19      34    54.0        5.2   \n",
       "3        40.000    39.410  1940      5   29    15      24    52.0        5.2   \n",
       "4        39.430    39.740  1941     11   12    10       4    59.0        6.0   \n",
       "...         ...       ...   ...    ...  ...   ...     ...     ...        ...   \n",
       "1928     30.946    40.808  2022     12    3     4      59    20.0        4.1   \n",
       "1929     38.684    39.854  2022     12   10    10      29    26.0        3.6   \n",
       "1930     27.110    40.364  2022     12   13     3      21    16.0        4.3   \n",
       "1931     40.537    39.859  2022     12   18     8      57    49.0        3.9   \n",
       "1932     34.184    41.109  2022     12   28     7      45    12.0        3.9   \n",
       "\n",
       "      depth  \n",
       "0     60.00  \n",
       "1     60.00  \n",
       "2     60.00  \n",
       "3     60.00  \n",
       "4     70.00  \n",
       "...     ...  \n",
       "1928  14.20  \n",
       "1929   7.05  \n",
       "1930  12.12  \n",
       "1931  10.21  \n",
       "1932  10.16  \n",
       "\n",
       "[1933 rows x 10 columns]"
      ]
     },
     "execution_count": 2,
     "metadata": {},
     "output_type": "execute_result"
    }
   ],
   "source": [
    "df = pd.read_csv(\"dataset_3.csv\", infer_datetime_format=True, parse_dates=True)\n",
    "df"
   ]
  },
  {
   "cell_type": "code",
   "execution_count": 3,
   "metadata": {},
   "outputs": [],
   "source": [
    "df.magnitude = df.magnitude.round(1)\n",
    "df.date = pd.to_datetime(df.date)\n",
    "df = df[df['date'] < '2023-01-01']"
   ]
  },
  {
   "cell_type": "code",
   "execution_count": 3,
   "metadata": {},
   "outputs": [],
   "source": [
    "magnitudes = np.arange(3.5, 8, 0.5)\n",
    "counts = np.zeros(magnitudes.shape[0])"
   ]
  },
  {
   "cell_type": "code",
   "execution_count": 4,
   "metadata": {},
   "outputs": [],
   "source": [
    "i = 0\n",
    "for m in magnitudes:\n",
    "    counts[i] = df[df['magnitude'] >= m]['magnitude'].count()\n",
    "    i += 1"
   ]
  },
  {
   "cell_type": "code",
   "execution_count": 5,
   "metadata": {},
   "outputs": [],
   "source": [
    "# normalize counts\n",
    "norm = np.sum(counts)   \n",
    "counts_n = counts/norm"
   ]
  },
  {
   "cell_type": "code",
   "execution_count": 6,
   "metadata": {},
   "outputs": [],
   "source": [
    "# filter by removing empty bins for the log plot\n",
    "counts_n_f = counts_n[counts_n!=0]\n",
    "magnitudes_f = magnitudes[counts_n!=0]"
   ]
  },
  {
   "cell_type": "code",
   "execution_count": 7,
   "metadata": {},
   "outputs": [],
   "source": [
    "# compute linear regression\n",
    "reg = stats.linregress(magnitudes_f, np.log10(counts_n_f))"
   ]
  },
  {
   "cell_type": "code",
   "execution_count": 8,
   "metadata": {},
   "outputs": [
    {
     "data": {
      "image/png": "[encoded data removed]",
      "text/plain": [
       "<Figure size 1000x600 with 1 Axes>"
      ]
     },
     "metadata": {},
     "output_type": "display_data"
    }
   ],
   "source": [
    "# Plot\n",
    "import matplotlib.pyplot as plt\n",
    "\n",
    "fig, ax = plt.subplots(figsize=(10,6))\n",
    "# plot histogram\n",
    "ax.plot(magnitudes_f, counts_n_f, 'o', mfc='cornflowerblue', mec='black')\n",
    "# plot linear regression\n",
    "label = r'a = {:.2f} $\\pm$ {:.2f}'.format(reg.intercept, reg.intercept_stderr) + '\\n' + r'b = {:.2f} $\\pm$ {:.2f}'.format(reg.slope, reg.stderr)\n",
    "plt.plot(magnitudes_f, 10**(reg.intercept + reg.slope*magnitudes_f), 'crimson', label=label)\n",
    "ax.set_yscale('log')\n",
    "ax.set_xlabel('m', fontsize=14)\n",
    "ax.set_ylabel(r'normalized counts', fontsize=14)\n",
    "ax.set_title('Gutenberg–Richter law', fontsize=20, pad=20)\n",
    "plt.legend()\n",
    "plt.grid()\n",
    "plt.show()"
   ]
  },
  {
   "cell_type": "code",
   "execution_count": null,
   "metadata": {},
   "outputs": [],
   "source": []
  }
 ],
 "metadata": {
  "kernelspec": {
   "display_name": "Python 3",
   "language": "python",
   "name": "python3"
  },
  "language_info": {
   "codemirror_mode": {
    "name": "ipython",
    "version": 3
   },
   "file_extension": ".py",
   "mimetype": "text/x-python",
   "name": "python",
   "nbconvert_exporter": "python",
   "pygments_lexer": "ipython3",
   "version": "3.10.6 (tags/v3.10.6:9c7b4bd, Aug  1 2022, 21:53:49) [MSC v.1932 64 bit (AMD64)]"
  },
  "orig_nbformat": 4,
  "vscode": {
   "interpreter": {
    "hash": "9b5964a3acd83fb917518d7dac6614d044966f2bd494e1f4cdd6f52e21fcc184"
   }
  }
 },
 "nbformat": 4,
 "nbformat_minor": 2
}
