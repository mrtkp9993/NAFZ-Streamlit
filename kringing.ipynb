{
 "cells": [
  {
   "cell_type": "code",
   "execution_count": 6,
   "metadata": {},
   "outputs": [],
   "source": [
    "from pykrige.uk3d import UniversalKriging3D\n",
    "import pandas as pd\n",
    "import numpy as np"
   ]
  },
  {
   "cell_type": "code",
   "execution_count": 4,
   "metadata": {},
   "outputs": [
    {
     "data": {
      "text/html": [
       "<div>\n",
       "<style scoped>\n",
       "    .dataframe tbody tr th:only-of-type {\n",
       "        vertical-align: middle;\n",
       "    }\n",
       "\n",
       "    .dataframe tbody tr th {\n",
       "        vertical-align: top;\n",
       "    }\n",
       "\n",
       "    .dataframe thead th {\n",
       "        text-align: right;\n",
       "    }\n",
       "</style>\n",
       "<table border=\"1\" class=\"dataframe\">\n",
       "  <thead>\n",
       "    <tr style=\"text-align: right;\">\n",
       "      <th></th>\n",
       "      <th>longitude</th>\n",
       "      <th>latitude</th>\n",
       "      <th>year</th>\n",
       "      <th>month</th>\n",
       "      <th>day</th>\n",
       "      <th>hour</th>\n",
       "      <th>minute</th>\n",
       "      <th>second</th>\n",
       "      <th>magnitude</th>\n",
       "      <th>depth</th>\n",
       "      <th>date</th>\n",
       "      <th>time_since_last_earthquake</th>\n",
       "    </tr>\n",
       "  </thead>\n",
       "  <tbody>\n",
       "    <tr>\n",
       "      <th>21</th>\n",
       "      <td>26.600</td>\n",
       "      <td>40.500</td>\n",
       "      <td>1900</td>\n",
       "      <td>2</td>\n",
       "      <td>7</td>\n",
       "      <td>0</td>\n",
       "      <td>0</td>\n",
       "      <td>0.0</td>\n",
       "      <td>5.0</td>\n",
       "      <td>10.00</td>\n",
       "      <td>1900-02-07 00:00:00</td>\n",
       "      <td>NaN</td>\n",
       "    </tr>\n",
       "    <tr>\n",
       "      <th>22</th>\n",
       "      <td>29.260</td>\n",
       "      <td>40.430</td>\n",
       "      <td>1900</td>\n",
       "      <td>6</td>\n",
       "      <td>18</td>\n",
       "      <td>17</td>\n",
       "      <td>40</td>\n",
       "      <td>0.0</td>\n",
       "      <td>5.2</td>\n",
       "      <td>10.00</td>\n",
       "      <td>1900-06-18 17:40:00</td>\n",
       "      <td>131.736111</td>\n",
       "    </tr>\n",
       "    <tr>\n",
       "      <th>23</th>\n",
       "      <td>26.300</td>\n",
       "      <td>40.500</td>\n",
       "      <td>1900</td>\n",
       "      <td>7</td>\n",
       "      <td>12</td>\n",
       "      <td>2</td>\n",
       "      <td>5</td>\n",
       "      <td>0.0</td>\n",
       "      <td>4.9</td>\n",
       "      <td>10.00</td>\n",
       "      <td>1900-07-12 02:05:00</td>\n",
       "      <td>23.350694</td>\n",
       "    </tr>\n",
       "    <tr>\n",
       "      <th>24</th>\n",
       "      <td>30.100</td>\n",
       "      <td>40.440</td>\n",
       "      <td>1900</td>\n",
       "      <td>8</td>\n",
       "      <td>1</td>\n",
       "      <td>8</td>\n",
       "      <td>40</td>\n",
       "      <td>0.0</td>\n",
       "      <td>5.2</td>\n",
       "      <td>10.00</td>\n",
       "      <td>1900-08-01 08:40:00</td>\n",
       "      <td>20.274306</td>\n",
       "    </tr>\n",
       "    <tr>\n",
       "      <th>25</th>\n",
       "      <td>36.400</td>\n",
       "      <td>40.300</td>\n",
       "      <td>1900</td>\n",
       "      <td>8</td>\n",
       "      <td>6</td>\n",
       "      <td>13</td>\n",
       "      <td>25</td>\n",
       "      <td>0.0</td>\n",
       "      <td>5.3</td>\n",
       "      <td>10.00</td>\n",
       "      <td>1900-08-06 13:25:00</td>\n",
       "      <td>5.197917</td>\n",
       "    </tr>\n",
       "    <tr>\n",
       "      <th>...</th>\n",
       "      <td>...</td>\n",
       "      <td>...</td>\n",
       "      <td>...</td>\n",
       "      <td>...</td>\n",
       "      <td>...</td>\n",
       "      <td>...</td>\n",
       "      <td>...</td>\n",
       "      <td>...</td>\n",
       "      <td>...</td>\n",
       "      <td>...</td>\n",
       "      <td>...</td>\n",
       "      <td>...</td>\n",
       "    </tr>\n",
       "    <tr>\n",
       "      <th>1928</th>\n",
       "      <td>30.946</td>\n",
       "      <td>40.808</td>\n",
       "      <td>2022</td>\n",
       "      <td>12</td>\n",
       "      <td>3</td>\n",
       "      <td>4</td>\n",
       "      <td>59</td>\n",
       "      <td>20.0</td>\n",
       "      <td>4.1</td>\n",
       "      <td>14.20</td>\n",
       "      <td>2022-12-03 04:59:00</td>\n",
       "      <td>0.423611</td>\n",
       "    </tr>\n",
       "    <tr>\n",
       "      <th>1929</th>\n",
       "      <td>38.684</td>\n",
       "      <td>39.854</td>\n",
       "      <td>2022</td>\n",
       "      <td>12</td>\n",
       "      <td>10</td>\n",
       "      <td>10</td>\n",
       "      <td>29</td>\n",
       "      <td>26.0</td>\n",
       "      <td>3.6</td>\n",
       "      <td>7.05</td>\n",
       "      <td>2022-12-10 10:29:00</td>\n",
       "      <td>7.229167</td>\n",
       "    </tr>\n",
       "    <tr>\n",
       "      <th>1930</th>\n",
       "      <td>27.110</td>\n",
       "      <td>40.364</td>\n",
       "      <td>2022</td>\n",
       "      <td>12</td>\n",
       "      <td>13</td>\n",
       "      <td>3</td>\n",
       "      <td>21</td>\n",
       "      <td>16.0</td>\n",
       "      <td>4.3</td>\n",
       "      <td>12.12</td>\n",
       "      <td>2022-12-13 03:21:00</td>\n",
       "      <td>2.702778</td>\n",
       "    </tr>\n",
       "    <tr>\n",
       "      <th>1931</th>\n",
       "      <td>40.537</td>\n",
       "      <td>39.859</td>\n",
       "      <td>2022</td>\n",
       "      <td>12</td>\n",
       "      <td>18</td>\n",
       "      <td>8</td>\n",
       "      <td>57</td>\n",
       "      <td>49.0</td>\n",
       "      <td>3.9</td>\n",
       "      <td>10.21</td>\n",
       "      <td>2022-12-18 08:57:00</td>\n",
       "      <td>5.233333</td>\n",
       "    </tr>\n",
       "    <tr>\n",
       "      <th>1932</th>\n",
       "      <td>34.184</td>\n",
       "      <td>41.109</td>\n",
       "      <td>2022</td>\n",
       "      <td>12</td>\n",
       "      <td>28</td>\n",
       "      <td>7</td>\n",
       "      <td>45</td>\n",
       "      <td>12.0</td>\n",
       "      <td>3.9</td>\n",
       "      <td>10.16</td>\n",
       "      <td>2022-12-28 07:45:00</td>\n",
       "      <td>9.950000</td>\n",
       "    </tr>\n",
       "  </tbody>\n",
       "</table>\n",
       "<p>1933 rows × 12 columns</p>\n",
       "</div>"
      ],
      "text/plain": [
       "      longitude  latitude  year  month  day  hour  minute  second  magnitude  \\\n",
       "21       26.600    40.500  1900      2    7     0       0     0.0        5.0   \n",
       "22       29.260    40.430  1900      6   18    17      40     0.0        5.2   \n",
       "23       26.300    40.500  1900      7   12     2       5     0.0        4.9   \n",
       "24       30.100    40.440  1900      8    1     8      40     0.0        5.2   \n",
       "25       36.400    40.300  1900      8    6    13      25     0.0        5.3   \n",
       "...         ...       ...   ...    ...  ...   ...     ...     ...        ...   \n",
       "1928     30.946    40.808  2022     12    3     4      59    20.0        4.1   \n",
       "1929     38.684    39.854  2022     12   10    10      29    26.0        3.6   \n",
       "1930     27.110    40.364  2022     12   13     3      21    16.0        4.3   \n",
       "1931     40.537    39.859  2022     12   18     8      57    49.0        3.9   \n",
       "1932     34.184    41.109  2022     12   28     7      45    12.0        3.9   \n",
       "\n",
       "      depth                date  time_since_last_earthquake  \n",
       "21    10.00 1900-02-07 00:00:00                         NaN  \n",
       "22    10.00 1900-06-18 17:40:00                  131.736111  \n",
       "23    10.00 1900-07-12 02:05:00                   23.350694  \n",
       "24    10.00 1900-08-01 08:40:00                   20.274306  \n",
       "25    10.00 1900-08-06 13:25:00                    5.197917  \n",
       "...     ...                 ...                         ...  \n",
       "1928  14.20 2022-12-03 04:59:00                    0.423611  \n",
       "1929   7.05 2022-12-10 10:29:00                    7.229167  \n",
       "1930  12.12 2022-12-13 03:21:00                    2.702778  \n",
       "1931  10.21 2022-12-18 08:57:00                    5.233333  \n",
       "1932  10.16 2022-12-28 07:45:00                    9.950000  \n",
       "\n",
       "[1933 rows x 12 columns]"
      ]
     },
     "execution_count": 4,
     "metadata": {},
     "output_type": "execute_result"
    }
   ],
   "source": [
    "data = pd.read_csv(\"dataset_3.csv\", infer_datetime_format=True, parse_dates=True)\n",
    "data[\"magnitude\"] = data[\"magnitude\"].round(1)\n",
    "data[\"date\"] = pd.to_datetime(data[[\"year\", \"month\", \"day\", \"hour\", \"minute\"]])\n",
    "data = data.sort_values(\"date\")\n",
    "data = data[data[\"date\"] < \"2023-01-01\"]\n",
    "data[\"time_since_last_earthquake\"] = data.date.diff().map(\n",
    "    lambda x: x.total_seconds() / 86400\n",
    ")\n",
    "data"
   ]
  },
  {
   "cell_type": "code",
   "execution_count": 55,
   "metadata": {},
   "outputs": [],
   "source": [
    "gridx = np.arange(data['longitude'].min(), data['longitude'].max(), 0.2)\n",
    "gridy = np.arange(data['latitude'].min(), data['latitude'].max(), 0.2)\n",
    "gridz = np.arange(0, data['depth'].max(), 1)"
   ]
  },
  {
   "cell_type": "code",
   "execution_count": 56,
   "metadata": {},
   "outputs": [
    {
     "name": "stdout",
     "output_type": "stream",
     "text": [
      "Adjusting data for anisotropy...\n",
      "Initializing variogram model...\n",
      "Using 'spherical' Variogram Model\n",
      "Partial Sill: 0.35647036713220454\n",
      "Full Sill: 0.5245558569498232\n",
      "Range: 22.411168449599874\n",
      "Nugget: 0.16808548981761873 \n",
      "\n",
      "Calculating statistics on variogram model fit...\n",
      "Q1 = 0.6700303752457775\n",
      "Q2 = 1.6490407561499922\n",
      "cR = 0.3296632928799071 \n",
      "\n",
      "Initializing drift terms...\n",
      "Implementing regional linear drift.\n",
      "Executing Ordinary Kriging...\n",
      "\n"
     ]
    }
   ],
   "source": [
    "ok3d = UniversalKriging3D(\n",
    "    data['latitude'], data['longitude'], data['depth'], data['magnitude'], variogram_model=\"spherical\", drift_terms=[\"regional_linear\"], verbose=True\n",
    ")\n",
    "k3d1, ss3d = ok3d.execute(\"grid\", gridx, gridy, gridz)"
   ]
  },
  {
   "cell_type": "code",
   "execution_count": 60,
   "metadata": {},
   "outputs": [
    {
     "name": "stdout",
     "output_type": "stream",
     "text": [
      "Q1 = 0.6700303752457775\n",
      "Q2 = 1.6490407561499922\n",
      "cR = 0.3296632928799071\n"
     ]
    }
   ],
   "source": [
    "ok3d.print_statistics()"
   ]
  },
  {
   "cell_type": "code",
   "execution_count": 61,
   "metadata": {},
   "outputs": [
    {
     "data": {
      "image/png": "[encoded data removed]",
      "text/plain": [
       "<Figure size 640x480 with 1 Axes>"
      ]
     },
     "metadata": {},
     "output_type": "display_data"
    }
   ],
   "source": [
    "ok3d.plot_epsilon_residuals()"
   ]
  },
  {
   "cell_type": "code",
   "execution_count": 62,
   "metadata": {},
   "outputs": [
    {
     "data": {
      "image/png": "[encoded data removed]",
      "text/plain": [
       "<Figure size 640x480 with 1 Axes>"
      ]
     },
     "metadata": {},
     "output_type": "display_data"
    }
   ],
   "source": [
    "ok3d.display_variogram_model()"
   ]
  },
  {
   "cell_type": "code",
   "execution_count": 63,
   "metadata": {},
   "outputs": [],
   "source": [
    "from matplotlib import pyplot as plt"
   ]
  },
  {
   "cell_type": "code",
   "execution_count": 74,
   "metadata": {},
   "outputs": [
    {
     "data": {
      "text/plain": [
       "<matplotlib.colorbar.Colorbar at 0x209d27c1db0>"
      ]
     },
     "execution_count": 74,
     "metadata": {},
     "output_type": "execute_result"
    },
    {
     "data": {
      "image/png": "[encoded data removed]",
      "text/plain": [
       "<Figure size 640x480 with 2 Axes>"
      ]
     },
     "metadata": {},
     "output_type": "display_data"
    }
   ],
   "source": [
    "plt.imshow(k3d1[:,:,0].T)\n",
    "plt.colorbar(location=\"bottom\")"
   ]
  },
  {
   "cell_type": "code",
   "execution_count": 65,
   "metadata": {},
   "outputs": [
    {
     "data": {
      "text/plain": [
       "(128, 10)"
      ]
     },
     "execution_count": 65,
     "metadata": {},
     "output_type": "execute_result"
    }
   ],
   "source": [
    "k3d1[:,:,0].shape"
   ]
  },
  {
   "cell_type": "code",
   "execution_count": 67,
   "metadata": {},
   "outputs": [
    {
     "data": {
      "text/plain": [
       "array([39.3123, 39.5123, 39.7123, 39.9123, 40.1123, 40.3123, 40.5123,\n",
       "       40.7123, 40.9123, 41.1123])"
      ]
     },
     "execution_count": 67,
     "metadata": {},
     "output_type": "execute_result"
    }
   ],
   "source": [
    "gridy"
   ]
  },
  {
   "cell_type": "code",
   "execution_count": 75,
   "metadata": {},
   "outputs": [
    {
     "data": {
      "text/plain": [
       "(128, 10, 81)"
      ]
     },
     "execution_count": 75,
     "metadata": {},
     "output_type": "execute_result"
    }
   ],
   "source": [
    "k3d1.shape"
   ]
  },
  {
   "cell_type": "code",
   "execution_count": null,
   "metadata": {},
   "outputs": [],
   "source": []
  }
 ],
 "metadata": {
  "kernelspec": {
   "display_name": "Python 3",
   "language": "python",
   "name": "python3"
  },
  "language_info": {
   "codemirror_mode": {
    "name": "ipython",
    "version": 3
   },
   "file_extension": ".py",
   "mimetype": "text/x-python",
   "name": "python",
   "nbconvert_exporter": "python",
   "pygments_lexer": "ipython3",
   "version": "3.10.6"
  },
  "orig_nbformat": 4,
  "vscode": {
   "interpreter": {
    "hash": "9b5964a3acd83fb917518d7dac6614d044966f2bd494e1f4cdd6f52e21fcc184"
   }
  }
 },
 "nbformat": 4,
 "nbformat_minor": 2
}
